{
 "cells": [
  {
   "cell_type": "code",
   "execution_count": 1,
   "metadata": {},
   "outputs": [
    {
     "name": "stderr",
     "output_type": "stream",
     "text": [
      "\u001b[32m\u001b[1m  Activating\u001b[22m\u001b[39m environment at `~/courses/CURSO-ALGO-IR/U4/Project.toml`\n"
     ]
    }
   ],
   "source": [
    "using Pkg\n",
    "pkg\"activate .\""
   ]
  },
  {
   "cell_type": "code",
   "execution_count": 3,
   "metadata": {},
   "outputs": [],
   "source": [
    "using JSON3, Random, Printf"
   ]
  },
  {
   "cell_type": "markdown",
   "metadata": {},
   "source": [
    "Lectura de la lista de posteo"
   ]
  },
  {
   "cell_type": "code",
   "execution_count": 4,
   "metadata": {},
   "outputs": [
    {
     "data": {
      "text/plain": [
       "read_posting_lists (generic function with 1 method)"
      ]
     },
     "execution_count": 4,
     "metadata": {},
     "output_type": "execute_result"
    }
   ],
   "source": [
    "    \n",
    "function read_posting_lists(filename)\n",
    "    T = String[]\n",
    "    P = Vector{Int32}[]\n",
    "\n",
    "    open(filename) do f\n",
    "        for line in eachline(f)\n",
    "            token, list = JSON3.read(line)\n",
    "            push!(T, token)\n",
    "            push!(P, list)\n",
    "        end\n",
    "    end\n",
    "    \n",
    "    T, P\n",
    "end\n"
   ]
  },
  {
   "cell_type": "markdown",
   "metadata": {},
   "source": [
    "Cada arreglo $A$ se perturba con $\\lfloor p \\times n \\rfloor$ intercambios de dos elementos aletorios de cada lista"
   ]
  },
  {
   "cell_type": "code",
   "execution_count": 7,
   "metadata": {},
   "outputs": [
    {
     "data": {
      "text/plain": [
       "perturbate_list (generic function with 1 method)"
      ]
     },
     "execution_count": 7,
     "metadata": {},
     "output_type": "execute_result"
    }
   ],
   "source": [
    "\n",
    "function perturbate_list(L_, prob)\n",
    "    L = copy(L_)\n",
    "    n = length(L)\n",
    "    for c in 1:floor(Int, prob * length(L))\n",
    "        i = rand(1:n-1)\n",
    "        L[i], L[i+1] = L[i+1], L[i]\n",
    "    end\n",
    "    \n",
    "    L\n",
    "end"
   ]
  },
  {
   "cell_type": "code",
   "execution_count": 9,
   "metadata": {},
   "outputs": [
    {
     "name": "stdout",
     "output_type": "stream",
     "text": [
      "unsorted-list-p=0.01.json\n",
      "unsorted-list-p=0.03.json\n",
      "unsorted-list-p=0.10.json\n",
      "unsorted-list-p=0.30.json\n"
     ]
    }
   ],
   "source": [
    "voc, lists = read_posting_lists(\"../datos/listas-posteo-100.json\")\n",
    "\n",
    "for p in [0.01, 0.03, 0.10, 0.30]\n",
    "    outname = @sprintf \"unsorted-list-p=%0.2f.json\" p\n",
    "    println(outname)\n",
    "    open(outname, \"w\") do f\n",
    "        for i in eachindex(voc)\n",
    "            w = voc[i]\n",
    "            L = lists[i]\n",
    "            s = (w, perturbate_list(L, p))\n",
    "            println(f, JSON3.write(s))\n",
    "        end\n",
    "    end\n",
    "end"
   ]
  },
  {
   "cell_type": "code",
   "execution_count": null,
   "metadata": {},
   "outputs": [],
   "source": []
  }
 ],
 "metadata": {
  "kernelspec": {
   "display_name": "Julia 1.6.2",
   "language": "julia",
   "name": "julia-1.6"
  },
  "language_info": {
   "file_extension": ".jl",
   "mimetype": "application/julia",
   "name": "julia",
   "version": "1.6.2"
  }
 },
 "nbformat": 4,
 "nbformat_minor": 4
}
