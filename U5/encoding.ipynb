{
 "cells": [
  {
   "cell_type": "code",
   "execution_count": 1,
   "metadata": {},
   "outputs": [
    {
     "name": "stderr",
     "output_type": "stream",
     "text": [
      "\u001b[32m\u001b[1m  Activating\u001b[22m\u001b[39m environment at `~/CURSO-ALGO-IR/U5/Project.toml`\n"
     ]
    }
   ],
   "source": [
    "using Pkg\n",
    "pkg\"activate .\"\n"
   ]
  },
  {
   "cell_type": "code",
   "execution_count": 51,
   "metadata": {},
   "outputs": [],
   "source": [
    "using JSON3"
   ]
  },
  {
   "cell_type": "code",
   "execution_count": 2,
   "metadata": {},
   "outputs": [
    {
     "data": {
      "text/plain": [
       "inflate (generic function with 1 method)"
      ]
     },
     "execution_count": 2,
     "metadata": {},
     "output_type": "execute_result"
    }
   ],
   "source": [
    "function random_sorted_list(n, skip=8)\n",
    "    L = Int[rand(1:skip)]\n",
    "\n",
    "    for i in 1:n\n",
    "        push!(L, L[end] + rand(1:skip))\n",
    "    end\n",
    "\n",
    "    L\n",
    "end\n",
    "\n",
    "function diff(G)\n",
    "    L = [G[1]]\n",
    "    for i in 1:length(G)-1\n",
    "        push!(L, G[i+1] - G[i])\n",
    "    end\n",
    "    \n",
    "    L\n",
    "end\n",
    "\n",
    "function inflate!(L)\n",
    "    for i in 2:length(G)\n",
    "        L[i] += L[i-1]\n",
    "    end\n",
    "    \n",
    "    L\n",
    "end\n",
    "\n",
    "inflate(L) = inflate!(copy(L))"
   ]
  },
  {
   "cell_type": "code",
   "execution_count": 49,
   "metadata": {},
   "outputs": [],
   "source": [
    "G8 = random_sorted_list(10^7, 8)\n",
    "G64 = random_sorted_list(10^7, 64)\n",
    "G1024 = random_sorted_list(10^7, 1024)\n",
    "nothing"
   ]
  },
  {
   "cell_type": "code",
   "execution_count": 58,
   "metadata": {},
   "outputs": [
    {
     "data": {
      "text/plain": [
       "87530462"
      ]
     },
     "execution_count": 58,
     "metadata": {},
     "output_type": "execute_result"
    }
   ],
   "source": [
    "open(\"diff-8.json\", \"w\") do f\n",
    "    JSON3.write(f, G8)\n",
    "end"
   ]
  }
 ],
 "metadata": {
  "kernelspec": {
   "display_name": "Julia 1.6.0-rc1",
   "language": "julia",
   "name": "julia-1.6"
  },
  "language_info": {
   "file_extension": ".jl",
   "mimetype": "application/julia",
   "name": "julia",
   "version": "1.6.0"
  }
 },
 "nbformat": 4,
 "nbformat_minor": 4
}
