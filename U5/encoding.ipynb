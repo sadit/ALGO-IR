{
 "cells": [
  {
   "cell_type": "code",
   "execution_count": 1,
   "metadata": {},
   "outputs": [
    {
     "name": "stderr",
     "output_type": "stream",
     "text": [
      "\u001b[32m\u001b[1m  Activating\u001b[22m\u001b[39m environment at `~/CURSO-ALGO-IR/U5/Project.toml`\n"
     ]
    }
   ],
   "source": [
    "using Pkg\n",
    "pkg\"activate .\"\n"
   ]
  },
  {
   "cell_type": "code",
   "execution_count": 4,
   "metadata": {},
   "outputs": [],
   "source": [
    "using JSON3"
   ]
  },
  {
   "cell_type": "code",
   "execution_count": 26,
   "metadata": {},
   "outputs": [
    {
     "data": {
      "text/plain": [
       "inflate (generic function with 1 method)"
      ]
     },
     "execution_count": 26,
     "metadata": {},
     "output_type": "execute_result"
    }
   ],
   "source": [
    "function random_sorted_list(n, skip=8)\n",
    "    L = Int[rand(1:skip)]\n",
    "\n",
    "    for i in 1:n\n",
    "        push!(L, L[end] + rand(1:skip))\n",
    "    end\n",
    "\n",
    "    L\n",
    "end\n",
    "\n",
    "function diff(G)\n",
    "    L = [G[1]]\n",
    "    for i in 1:length(G)-1\n",
    "        push!(L, G[i+1] - G[i])\n",
    "    end\n",
    "    \n",
    "    L\n",
    "end\n",
    "\n",
    "function inflate!(L)\n",
    "    for i in 2:length(G)\n",
    "        L[i] += L[i-1]\n",
    "    end\n",
    "    \n",
    "    L\n",
    "end\n",
    "\n",
    "inflate(L) = inflate!(copy(L))"
   ]
  },
  {
   "cell_type": "code",
   "execution_count": 27,
   "metadata": {},
   "outputs": [
    {
     "name": "stderr",
     "output_type": "stream",
     "text": [
      "┌ Info: [3, 7, 11, 15, 18, 21, 24, 28, 29, 32, 35, 39, 43, 47, 51, 54, 57, 58, 61, 64, 68, 69, 71, 75, 76, 79, 82, 84, 87, 89, 91, 93, 97, 100, 102, 104, 108, 109, 112, 113, 115, 119, 122, 126, 128, 132, 133, 134, 137, 139, 143, 145, 149, 153, 154, 155, 156, 159, 163, 165, 168, 172, 174, 175, 177, 179, 183, 187, 190, 194, 198, 199, 201, 202, 203, 206, 210, 213, 216, 220, 224, 228, 229, 230, 234, 237, 239, 242, 244, 247, 249, 253, 255, 256, 258, 261, 262, 264, 265, 269, 271]\n",
      "└ @ Main In[27]:3\n",
      "┌ Info: [3, 4, 4, 4, 3, 3, 3, 4, 1, 3, 3, 4, 4, 4, 4, 3, 3, 1, 3, 3, 4, 1, 2, 4, 1, 3, 3, 2, 3, 2, 2, 2, 4, 3, 2, 2, 4, 1, 3, 1, 2, 4, 3, 4, 2, 4, 1, 1, 3, 2, 4, 2, 4, 4, 1, 1, 1, 3, 4, 2, 3, 4, 2, 1, 2, 2, 4, 4, 3, 4, 4, 1, 2, 1, 1, 3, 4, 3, 3, 4, 4, 4, 1, 1, 4, 3, 2, 3, 2, 3, 2, 4, 2, 1, 2, 3, 1, 2, 1, 4, 2]\n",
      "└ @ Main In[27]:4\n"
     ]
    }
   ],
   "source": [
    "G = random_sorted_list(100, 4)\n",
    "D = diff(G)\n",
    "@info G\n",
    "@info D"
   ]
  },
  {
   "cell_type": "code",
   "execution_count": 29,
   "metadata": {},
   "outputs": [
    {
     "data": {
      "text/plain": [
       "true"
      ]
     },
     "execution_count": 29,
     "metadata": {},
     "output_type": "execute_result"
    }
   ],
   "source": [
    "inflate(D) == G"
   ]
  },
  {
   "cell_type": "code",
   "execution_count": null,
   "metadata": {},
   "outputs": [],
   "source": []
  }
 ],
 "metadata": {
  "kernelspec": {
   "display_name": "Julia 1.6.0-rc1",
   "language": "julia",
   "name": "julia-1.6"
  },
  "language_info": {
   "file_extension": ".jl",
   "mimetype": "application/julia",
   "name": "julia",
   "version": "1.6.0"
  }
 },
 "nbformat": 4,
 "nbformat_minor": 4
}
