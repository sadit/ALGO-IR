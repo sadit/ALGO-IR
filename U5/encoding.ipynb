{
 "cells": [
  {
   "cell_type": "code",
   "execution_count": 1,
   "metadata": {},
   "outputs": [
    {
     "name": "stderr",
     "output_type": "stream",
     "text": [
      "\u001b[32m\u001b[1m  Activating\u001b[22m\u001b[39m environment at `~/CURSO-ALGO-IR/U5/Project.toml`\n"
     ]
    }
   ],
   "source": [
    "using Pkg\n",
    "pkg\"activate .\"\n"
   ]
  },
  {
   "cell_type": "code",
   "execution_count": null,
   "metadata": {},
   "outputs": [],
   "source": [
    "using JSON3"
   ]
  },
  {
   "cell_type": "code",
   "execution_count": 2,
   "metadata": {},
   "outputs": [
    {
     "data": {
      "text/plain": [
       "inflate (generic function with 1 method)"
      ]
     },
     "execution_count": 2,
     "metadata": {},
     "output_type": "execute_result"
    }
   ],
   "source": [
    "function random_sorted_list(n, skip=8)\n",
    "    L = Int[rand(1:skip)]\n",
    "\n",
    "    for i in 1:n\n",
    "        push!(L, L[end] + rand(1:skip))\n",
    "    end\n",
    "\n",
    "    L\n",
    "end\n",
    "\n",
    "function diff(G)\n",
    "    L = [G[1]]\n",
    "    for i in 1:length(G)-1\n",
    "        push!(L, G[i+1] - G[i])\n",
    "    end\n",
    "    \n",
    "    L\n",
    "end\n",
    "\n",
    "function inflate!(L)\n",
    "    for i in 2:length(G)\n",
    "        L[i] += L[i-1]\n",
    "    end\n",
    "    \n",
    "    L\n",
    "end\n",
    "\n",
    "inflate(L) = inflate!(copy(L))"
   ]
  },
  {
   "cell_type": "code",
   "execution_count": 3,
   "metadata": {},
   "outputs": [
    {
     "name": "stderr",
     "output_type": "stream",
     "text": [
      "┌ Info: [1, 5, 6, 7, 8, 11, 12, 13, 15, 19, 23, 26, 27, 28, 31, 32, 33, 37, 41, 43, 47, 50, 51, 54, 57, 61, 64, 65, 67, 71, 74, 75, 76, 80, 82, 86, 88, 91, 93, 97, 101, 103, 104, 107, 111, 113, 116, 118, 119, 121, 124, 126, 128, 132, 135, 138, 140, 141, 145, 147, 151, 152, 154, 156, 158, 161, 165, 169, 170, 171, 175, 178, 182, 186, 190, 194, 198, 199, 200, 204, 205, 209, 212, 215, 219, 223, 227, 230, 232, 233, 235, 237, 240, 244, 245, 246, 249, 251, 252, 253, 257]\n",
      "└ @ Main In[3]:3\n",
      "┌ Info: [1, 4, 1, 1, 1, 3, 1, 1, 2, 4, 4, 3, 1, 1, 3, 1, 1, 4, 4, 2, 4, 3, 1, 3, 3, 4, 3, 1, 2, 4, 3, 1, 1, 4, 2, 4, 2, 3, 2, 4, 4, 2, 1, 3, 4, 2, 3, 2, 1, 2, 3, 2, 2, 4, 3, 3, 2, 1, 4, 2, 4, 1, 2, 2, 2, 3, 4, 4, 1, 1, 4, 3, 4, 4, 4, 4, 4, 1, 1, 4, 1, 4, 3, 3, 4, 4, 4, 3, 2, 1, 2, 2, 3, 4, 1, 1, 3, 2, 1, 1, 4]\n",
      "└ @ Main In[3]:4\n"
     ]
    }
   ],
   "source": [
    "G = random_sorted_list(100, 4)\n",
    "D = diff(G)\n",
    "@info G\n",
    "@info D"
   ]
  },
  {
   "cell_type": "code",
   "execution_count": 4,
   "metadata": {},
   "outputs": [
    {
     "data": {
      "text/plain": [
       "true"
      ]
     },
     "execution_count": 4,
     "metadata": {},
     "output_type": "execute_result"
    }
   ],
   "source": [
    "inflate(D) == G"
   ]
  },
  {
   "cell_type": "code",
   "execution_count": 43,
   "metadata": {},
   "outputs": [
    {
     "data": {
      "text/plain": [
       "decode (generic function with 2 methods)"
      ]
     },
     "execution_count": 43,
     "metadata": {},
     "output_type": "execute_result"
    }
   ],
   "source": [
    "\n",
    "struct EliasGamma\n",
    "    buff::BitArray\n",
    "    EliasGamma() = new(BitArray(undef, 0))\n",
    "end\n",
    "\n",
    "\"\"\"\n",
    "    eliasgamma(out, n)\n",
    "    \n",
    "Stores `n` in `out` using Elias-γ\n",
    "\"\"\"\n",
    "function encode(enc::EliasGamma, n::Integer)\n",
    "    buff = enc.buff\n",
    "    if n == 1 \n",
    "        push!(buff, true)\n",
    "    else\n",
    "        s = floor(Int32, log2(n))\n",
    "\n",
    "        for i in 1:s\n",
    "            push!(buff, false)\n",
    "        end\n",
    "        \n",
    "        push!(buff, true)\n",
    "\n",
    "        for i in s-1:-1:0\n",
    "            x = (n & (1 << i))\n",
    "            push!(buff, x > 0)\n",
    "        end        \n",
    "    end\n",
    "    \n",
    "    enc\n",
    "end\n",
    "\n",
    "\n",
    "function decode(enc::EliasGamma, pos=1)\n",
    "    buff = enc.buff\n",
    "    if buff[pos]\n",
    "        return 1, pos + 1\n",
    "    end\n",
    "    \n",
    "    s = 1\n",
    "    while !buff[pos + s]\n",
    "        s += 1\n",
    "    end\n",
    "    \n",
    "     \n",
    "    @show \"--------\", pos, s\n",
    "    n = 1\n",
    "    pos += s\n",
    "    for i in 1:s\n",
    "        if buff[pos+i]\n",
    "            n = (n << 1) | 1\n",
    "        else\n",
    "            n <<= 1\n",
    "        end\n",
    "        @show n\n",
    "    end\n",
    "    \n",
    "    n, pos + s + 1\n",
    "end\n",
    "\n",
    "function Base.iterate(enc::EliasGamm, pos::Int=1)\n",
    "    n = length(enc.buff)\n",
    "\n",
    "    if n == 0 || pos > n\n",
    "        nothing\n",
    "    else\n",
    "        @inbounds decode(enc, pos)\n",
    "    end\n",
    "end"
   ]
  },
  {
   "cell_type": "code",
   "execution_count": 22,
   "metadata": {},
   "outputs": [
    {
     "data": {
      "text/plain": [
       "EliasGamma(Bool[1, 0, 0, 0, 0, 1, 0, 0, 0, 0, 0, 0, 1, 0, 1, 0, 1, 1])"
      ]
     },
     "execution_count": 22,
     "metadata": {},
     "output_type": "execute_result"
    }
   ],
   "source": [
    "eg = EliasGamma()\n",
    "encode(eg, 1)\n",
    "encode(eg, 16)\n",
    "encode(eg, 5)\n",
    "encode(eg, 3)"
   ]
  },
  {
   "cell_type": "code",
   "execution_count": 46,
   "metadata": {},
   "outputs": [
    {
     "name": "stdout",
     "output_type": "stream",
     "text": [
      "(\"--------\", pos, s) = (\"--------\", 2, 4)\n",
      "n = 2\n",
      "n = 4\n",
      "n = 8\n",
      "n = 16\n",
      "(\"--------\", pos, s) = (\"--------\", 11, 2)\n",
      "n = 2\n",
      "n = 5\n",
      "(\"--------\", pos, s) = (\"--------\", 16, 1)\n",
      "n = 3\n"
     ]
    },
    {
     "data": {
      "text/plain": [
       "18"
      ]
     },
     "execution_count": 46,
     "metadata": {},
     "output_type": "execute_result"
    }
   ],
   "source": [
    "v, p = decode(eg, 1)\n",
    "v, p = decode(eg, p)\n",
    "v, p = decode(eg, p)\n",
    "v, p = decode(eg, p)\n",
    "length(eg.buff)"
   ]
  }
 ],
 "metadata": {
  "kernelspec": {
   "display_name": "Julia 1.6.0-rc1",
   "language": "julia",
   "name": "julia-1.6"
  },
  "language_info": {
   "file_extension": ".jl",
   "mimetype": "application/julia",
   "name": "julia",
   "version": "1.6.0"
  }
 },
 "nbformat": 4,
 "nbformat_minor": 4
}
