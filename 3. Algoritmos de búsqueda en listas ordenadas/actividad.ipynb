{
 "cells": [
  {
   "cell_type": "markdown",
   "metadata": {},
   "source": [
    "# 3. Búsqueda #\n",
    "Profesor: Eric S. Tellez <eric.tellez@infotec.mx>\n",
    "\n",
    "\n",
    "## Notas preliminares.\n",
    "- Entienda, implemente y pruebe algoritmos de búsqueda, teniendo como guía las lecturas y videos\n",
    "- Revise el documento. Si hay dudas o comentarios favor hagamelo saber y se harán las aclaraciones y correcciones necesarias.\n",
    "\n",
    "\n",
    "## Introducción\n",
    "\n",
    "En esta unidad se aborda la búsqueda en arreglos ordenados, y abusando del término, muchas veces les llamaremos listas ordenadas. Entendemos  como lista ordenada un arreglo\n",
    "$A[1,n] = a_1,a_2,\\cdots,a_n$, el cual cumple con la propiedad $a_i \\leq a_{i+1}$ para todo $1 \\leq i \\leq n-1$. Recuerde que a lo largo de este curso, esta será nuestra representación para conjuntos. Es muy común encontrar en la literatura,\n",
    "y en este curso, que se aborde el tema con un modelo de costo basado en comparaciones, esto es, cada comparación $\\le$ provoca costo constante $O(1)$.\n",
    "Esto se hace porque la  comparación es un excelente factorizador de las operaciones adicionales en los algoritmos de búsqueda; esto debería quedar claro una vez que se comprendan los algoritmos.\n",
    "\n",
    "Utilizaremos como base el artículo [@Bentley76], que es de lectura forzosa. Nos apoyaremos en una serie de lecturas adicionales para comprender y madurar el concepto.\n",
    "\n",
    "Se realizará una práctica, en la cual deberá crear un índice invertido. El código básico se encontrará a lo largo de este notebook, también los datos para inicializarlo.\n",
    "\n",
    "\n",
    "## Lectura y comprensión\n",
    "\n",
    "- El artículo sobre búsqueda no acotada, como representativo sobre búsqueda adaptativa [@Bentley76].\n",
    "- Cap. 12 de [@Sedgewick98], en partícular Sec. 12.3 y 12.4.\n",
    "- Cap. 6 de [@Knuth98], en partícular Sec. 6.1 y 6.2.\n",
    "- El artículo sobre búsqueda adaptativa secuencial [@Bentley85].\n",
    "- Recuerde la referencia básica para la notación y conceptos es [@Cormen01].\n",
    "\n",
    "## Actividad 0 [sin entrega]\n",
    "\n",
    "Realizar las actividades de lectura y comprensión, apoyosé en el video de esta unidad. De preferencia realice los ejercicios de las secciones relacionadas.\n",
    "  \n",
    "\n",
    "## Actividad 1 [con reporte]\n",
    "\n",
    "Realice y reporte el siguiente experimento:\n",
    " \n",
    " - Use el archivo `listas-posteo-100.json`, contiene las 100 listas de posteo más frecuentes, se encuentran en formato JSON.\n",
    " - Utilice las listas (sin el término asociado).\n",
    " - Los usuarios de Julia deberán asegurar que los tipos de los arreglos es `Int` y no `Any` para asegurar la velocidad adecuada\n",
    " - Seleccione 1000 identificadores de documentos al azar, entre $1$ y $n$, recuerde que $n=50,000$.\n",
    " - Grafique el tiempo promedio de _buscar_ los 1000 identificadores en todas las listas (un solo número que represente las $100\\times 1000$ búsquedas). Nota: lo que determinará al buscar es la _posición de inserción_ que se define como el lugar donde debería estar el identificador si se encontrara en la lista.\n",
    " - Los algoritmos que caracterizará son los siguientes (nombres con referencia a [@Bentley76]):\n",
    "      - Búsqueda binaria acotada\n",
    "      - Búsqueda secuencial $B_0$\n",
    "      - Búsqueda no acotada $B_1$\n",
    "      - Búsqueda no acotada $B_2$\n",
    "\n",
    "   - *Importante: Tal vez deba repetir varias veces cada búsqueda si los tiempos son muy pequeños.*\n",
    " - Bosqueje en pseudo-código la implementación de la búsqueda casí optima $B_k$\n",
    "\n",
    "  \n",
    "### Entregable\n",
    "El reporte deberá ser en formato notebook y el PDF del mismo notebook. El notebook debe contener las implementaciones de los algoritmos solicitados. Recuerde que el reporte debe llevar claramente su nombre, debe incluir una introducción, la explicación de los experimentos realizados, las observaciones, conclusiones y bibliografía.\n",
    "\n",
    "Nota: En las implementaciones podrá usar comparación $<, \\leq$, o incluso $cmp \\rightarrow \\{-1, 0, 1\\}$, teniendo en cuenta que $cmp$ es común en lenguajes modernos, solo debe indicarlo.\n",
    "\n",
    "\n",
    "## Actividad 2 [sin entrega]\n",
    "Revisar el notebook `crear-indice-invertido.ipynb` para los detalles de como se generó la lista de posteo. Usted puede crear nuevas listas de posteo si lo desea usando los conjuntos de datos disponibles (listados en dicho notebook), y a su vez utilizarlas en las actividades de este Unidad. Solo deberá indicarlo; recuerde que los números de documentos y tamaño de vocabulario cambiarán.\n",
    "\n",
    "\n",
    "## Leyendo las listas de posteo\n",
    "\n",
    "Usted no necesita generar las listas de posteo, solo leer las que se le han proporcionado en el archivo `listas-posteo-100.json` que corresponden a las 100 listas de posteo más pobladas (100 terminos más usados en el conjunto de datos).\n",
    "En el archivo `listas-posteo-100.json` , cada linea un JSON valido, donde se tiene el término y la lista de posteo.\n",
    "\n",
    "**Al final de este notebook se muestra como se leen las listas de posteo desde Julia**\n",
    "\n",
    "\n",
    "## Referencias\n",
    "- [@Knuth98]: Donald E. Knuth. 1998. The Art of Computer Programming, Volume 3: (2nd Ed.) Sorting and Searching. Addison Wesley Longman Publishing Co., Inc., Redwood City, CA, USA.\n",
    "- [@Bentley76]: Jon Louis Bentley, Andrew Chi-Chih Yao. An almost optimal algorithm for unbounded searching. Information Processing Letters, Volume 5, Issue 3, 1976, Pages 82-87. ISSN 0020-0190. https://doi.org/10.1016/0020-0190(76)90071-5.\n",
    "- [@Bentley85]: Bentley, J.L., McGeoch, C.C. Amortized analyses of self-organizing sequential search heuristics. (1985) Communications of the ACM, 28 (4), pp. 404-411. Doi: 10.1145/3341.3349. \n",
    "- [@Cormen01]: Cormen et. al. Introduction to algorithms. MIT press 2001. 2nd edition.\n",
    "- [@Sedgewick98]: Robert Sedgewick. Algorithms in C++ - Parts 1-4: Fundamentals, Data Structures, Sorting, Searching. Addison-Wesley-Longman, 1998. 3rd Edition.\n",
    "\n"
   ]
  },
  {
   "cell_type": "markdown",
   "metadata": {},
   "source": [
    "##############################\n",
    "# Inicialización del ambiente de trabajo"
   ]
  },
  {
   "cell_type": "code",
   "execution_count": null,
   "metadata": {},
   "outputs": [],
   "source": [
    "using Pkg\n",
    "Pkg.activate(\".\")\n",
    "# Pkg.instantiate() # solo la primera vez se debe correr\n",
    "using JSON3, Plots"
   ]
  },
  {
   "cell_type": "markdown",
   "metadata": {},
   "source": [
    "### Lectura y acceso a las listas de posteo"
   ]
  },
  {
   "cell_type": "code",
   "execution_count": null,
   "metadata": {},
   "outputs": [],
   "source": [
    "L = [JSON3.read(line, Tuple{String, Vector{Int32}}) for line in eachline(\"listas-posteo-100.json\")]\n",
    "\n",
    "for (token, list) in L\n",
    "    print(token, \" -> \", length(list), \", \")\n",
    "end\n",
    "println(\"<end>\")\n",
    "\n",
    "plot([length(p[end]) for p in L])"
   ]
  }
 ],
 "metadata": {
  "kernelspec": {
   "display_name": "Julia 1.6.0-rc1",
   "language": "julia",
   "name": "julia-1.6"
  },
  "language_info": {
   "file_extension": ".jl",
   "mimetype": "application/julia",
   "name": "julia",
   "version": "1.6.0"
  }
 },
 "nbformat": 4,
 "nbformat_minor": 4
}
