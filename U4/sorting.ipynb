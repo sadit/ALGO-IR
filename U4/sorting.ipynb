{
 "cells": [
  {
   "cell_type": "markdown",
   "metadata": {},
   "source": []
  },
  {
   "cell_type": "markdown",
   "metadata": {},
   "source": [
    "# Probando el índice invertido\n",
    "\n",
    "\n",
    "Como en la práctica anterior, usted puede usar el código del indice invertido. A continuación se carga el código del indice invertido del Tema 3."
   ]
  },
  {
   "cell_type": "code",
   "execution_count": 1,
   "metadata": {},
   "outputs": [
    {
     "data": {
      "text/plain": [
       "create_inverted_index"
      ]
     },
     "execution_count": 1,
     "metadata": {},
     "output_type": "execute_result"
    }
   ],
   "source": [
    "include(\"invindex.jl\")"
   ]
  },
  {
   "cell_type": "markdown",
   "metadata": {},
   "source": [
    "## Búsqueda en el índice invertido"
   ]
  },
  {
   "cell_type": "code",
   "execution_count": 2,
   "metadata": {},
   "outputs": [
    {
     "data": {
      "text/plain": [
       "search"
      ]
     },
     "execution_count": 2,
     "metadata": {},
     "output_type": "execute_result"
    }
   ],
   "source": [
    "\n",
    "\"\"\"\n",
    "    Performs the union of the multiset `res` with the set `plist`\n",
    "\"\"\"\n",
    "function union!(res, plist)\n",
    "    for docID in plist\n",
    "        c = get(res, docID, 0)\n",
    "        res[docID] = c + 1\n",
    "    end\n",
    "end\n",
    "    \n",
    "\"\"\"\n",
    "Searching the best ``k`` items. The fitness is computed with the number of shared tokens with the query. It returns an array of pairs\n",
    "``(documentId, frequency)`` ordered by frequency (in descendent order).\n",
    "\"\"\"\n",
    "function search(invindex, text; k=10)\n",
    "    bow = create_bow(text)\n",
    "    res = Dict{Int,Int}()\n",
    "    for (term, freq) in bow\n",
    "        plist = get(invindex, term, nothing)\n",
    "        if plist != nothing\n",
    "            union!(res, plist)\n",
    "        end        \n",
    "    end\n",
    "    \n",
    "    pairs = collect(res)\n",
    "    sort!(pairs, by=x -> -x.second)\n",
    "    \n",
    "    if length(pairs) > k\n",
    "        @info \"selecting $k documents from $(length(pairs))\"\n",
    "        pairs[1:k]\n",
    "    else\n",
    "        pairs\n",
    "    end\n",
    "end"
   ]
  },
  {
   "cell_type": "code",
   "execution_count": 3,
   "metadata": {},
   "outputs": [
    {
     "name": "stdout",
     "output_type": "stream",
     "text": [
      "base de datos e índice invertido cargados\n"
     ]
    }
   ],
   "source": [
    "function prepare_collection()\n",
    "    tweets = load_tweets(\"politicos.json\")\n",
    "    invindex = create_inverted_index(tweets)\n",
    "    tweets, invindex\n",
    "end\n",
    "\n",
    "tweets, invindex = prepare_collection()\n",
    "println(\"base de datos e índice invertido cargados\")"
   ]
  },
  {
   "cell_type": "code",
   "execution_count": 4,
   "metadata": {},
   "outputs": [
    {
     "name": "stdout",
     "output_type": "stream",
     "text": [
      "### Query:Le contaremos todo lo que ocurrió en la reunión de AMLO con la @CONAGO_oficial. A las 22:30 en @ImagenTVMex https://t.co/jpaxR5Otdf\n",
      "\n",
      "== result: 1, similarity: 6, text: Le contaremos todo lo que ocurrió en la reunión de AMLO con la @CONAGO_oficial. A las 22:30 en @ImagenTVMex https://t.co/jpaxR5Otdf\n",
      "== result: 2, similarity: 4, text: Ciudadana le roba un beso a AMLO. Ocurrió antes de iniciar la reunión de López Obrador con los gobernadores de la @CONAGO_oficial.  ¿De qué se quejó el mandatario @Silvano_A ante el tabasqueño? Sigue esta liga ➡️ https://t.co/ffvNcOwrCW https://t.co/urpXjmpSbg\n",
      "== result: 3, similarity: 3, text: A las 22:30 en @ImagenTVMex tendremos todos los detalles de la reunión de AMLO con empresarios de la @CONCAMIN. Le explicaremos esto que dijo sobre los gasolinazos https://t.co/W0o2dYi7Gk\n",
      "== result: 4, similarity: 3, text: @CONAGO_oficial @VelascoM_ @lopezobrador_ #AHORA AMLO asegura que su reunión con la Conago fue de respeto sin reclamos y se acordó trabajar por el bien de México https://t.co/2KYHSovdt4 https://t.co/jZxvk2scD9\n",
      "== result: 5, similarity: 3, text: El Gobernador @HectorAstudillo dijo que en la reunión entre la @CONAGO_oficial y AMLO se acordó hacer una consulta nacional para definir agenda de seguridad. #GanadoresYPerdedores https://t.co/kA4kVIi5Cv\n",
      "== result: 6, similarity: 3, text: #FelizMartes Reunión AMLO-@CONAGO_oficial 🤝; @PueblaAyto destinará 5 mdp 💰 para transición: @fercrisanto https://t.co/7RR4bybpXS\n",
      "== result: 7, similarity: 3, text: AMLO arriba a la reunión con integrantes de la Conferencia Nacional de Gobernadores (@CONAGO_oficial)\n",
      "https://t.co/KTGIfHqHRx https://t.co/lw9wBBYIe9\n",
      "== result: 8, similarity: 3, text: Carlos Joaquín destacó que el objetivo de la reunión de @CONAGO_oficial con AMLO es “fortalecer la coordinación” con el nuevo gobierno  https://t.co/Uo8sPvGkSG https://t.co/b4WXCI7nrg\n",
      "== result: 9, similarity: 3, text: @CONAGO_oficial @VelascoM_ @lopezobrador_ #AHORA La reunión fue en \"muy buen plan\", dice AMLO y agradece los buenos oficios de Manuel Velasco para reunirse con la Conago https://t.co/2KYHSovdt4 https://t.co/sRDi1vx8qh\n",
      "== result: 10, similarity: 3, text: A las 22:30 en @ImagenTVMex. #ImagenNoticias platicó con el hijo mayor de AMLO, le contaremos lo que nos dijo ahora que su papá ganó #LaElección presidencial. Y le diremos qué partidos están a punto de perder su registro. Además: https://t.co/Shvf4Ai795\n"
     ]
    },
    {
     "name": "stderr",
     "output_type": "stream",
     "text": [
      "┌ Info: selecting 10 documents from 23515\n",
      "└ @ Main In[2]:30\n"
     ]
    }
   ],
   "source": [
    "\"\"\"\n",
    "A simple pretty printing method for objects inside the global dataset\n",
    "\"\"\"\n",
    "function print_query_and_search(tweets, query; k=10)\n",
    "    println(\"### Query:\", query, \"\\n\")\n",
    "\n",
    "    counter = 1\n",
    "    for (resID, freq) in search(invindex, query, k=k)\n",
    "        println(\"== result: $counter, similarity: $freq, text: \", tweets[resID][\"text\"])\n",
    "        # println(JSON.json(tweets[resID]), \"\\n\")\n",
    "        counter += 1\n",
    "    end\n",
    "end\n",
    "\n",
    "print_query_and_search(tweets, tweets[rand(1:length(tweets))][\"text\"], k=10)\n"
   ]
  },
  {
   "cell_type": "markdown",
   "metadata": {},
   "source": [
    "Este tipo de operaciones pueden ser utilizados para remover o contabilizar duplicados muy similares. Así mismo, ajustando la manera en que se calculan los resultados más pertinentes, es posible utilizar el índice invertido para realizar calculos complejos y costosos de manera eficiente como agrupamiento."
   ]
  }
 ],
 "metadata": {
  "kernelspec": {
   "display_name": "Julia 1.6.0-rc1",
   "language": "julia",
   "name": "julia-1.6"
  },
  "language_info": {
   "file_extension": ".jl",
   "mimetype": "application/julia",
   "name": "julia",
   "version": "1.6.0"
  }
 },
 "nbformat": 4,
 "nbformat_minor": 4
}
