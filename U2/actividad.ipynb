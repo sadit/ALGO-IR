{
 "cells": [
  {
   "cell_type": "code",
   "execution_count": null,
   "metadata": {},
   "outputs": [],
   "source": [
    "using Pkg\n",
    "pkg\"activate .\"  # activa el ambiente definido por Project.toml en este directorio\n",
    "#pkg\"instantiate\"  # instanciar el ambiente la primera vez que se corra para instalar los paquetes de graficación\n"
   ]
  },
  {
   "cell_type": "code",
   "execution_count": null,
   "metadata": {},
   "outputs": [],
   "source": [
    "using Plots\n",
    "#pkg\"add Plots\""
   ]
  },
  {
   "cell_type": "markdown",
   "metadata": {},
   "source": [
    "# Ordenes de crecimiento\n",
    "\n",
    "Los ordenes de crecimiento son maneras de categorizar la velocidad de crecimiento de una función, y más precisamente, de una función de costo como en nuestro caso. Junto con la notación asimptótica nos permite concentrarnos en razgos gruesos más que en los detalles, y no perder el punto de interés.\n",
    "\n",
    "\n",
    "## Costo constante, logaritmo y lineal\n",
    "La primera figura muestra un crecimiento nulo (constante), logaritmico y lineal. Note como la función logarítmica crece lentamente."
   ]
  },
  {
   "cell_type": "code",
   "execution_count": null,
   "metadata": {},
   "outputs": [],
   "source": [
    "n = 300\n",
    "\n",
    "plot(1:n, [10 for x in 1:n], label=\"c\")\n",
    "plot!(1:n, [log2(x) for x in 1:n], label=\"log n\")\n",
    "plot!(1:n, [x for x in 1:n], label=\"n\")"
   ]
  },
  {
   "cell_type": "markdown",
   "metadata": {},
   "source": [
    "## Costo polinomial\n",
    "La segunda figura esta dedicada a dos funciones polinomiales: cuadrática y cúbica. Note que para valores relativamente pequeños de $n$, la función cúbica crece notoriamente más rapido que la función cuadrática."
   ]
  },
  {
   "cell_type": "code",
   "execution_count": null,
   "metadata": {},
   "outputs": [],
   "source": [
    "n = 10\n",
    "\n",
    "plot(1:n, [x^2 for x in 1:n], label=\"n^2\")\n",
    "plot!(1:n, [x^3 for x in 1:n], label=\"n^3\")"
   ]
  },
  {
   "cell_type": "markdown",
   "metadata": {},
   "source": [
    "## Exponencial\n",
    "A continuación se compara el crecimiento de una función exponencial con una función polinomial. Note que la función polinomial es de grado 4 y que la función exponencial tiene como base 2; aún cuando para números menores de aprox. 16 la función polinomial es mayor, a partir de ese valor la función $2^n$ supera rapidamente a la polinomial."
   ]
  },
  {
   "cell_type": "code",
   "execution_count": null,
   "metadata": {},
   "outputs": [],
   "source": [
    "n = 20\n",
    "\n",
    "plot(1:n, [x^4 for x in 1:n], label=\"n^4\")\n",
    "plot!(1:n, [2^x for x in 1:n], label=\"2^n\")"
   ]
  },
  {
   "cell_type": "markdown",
   "metadata": {},
   "source": [
    "## Crecimiento factorial\n",
    "\n",
    "Vease como la función factorial crece mucho más rápido que la función exponencial para una $n$ relativamente pequeña."
   ]
  },
  {
   "cell_type": "code",
   "execution_count": null,
   "metadata": {},
   "outputs": [],
   "source": [
    "n = 10\n",
    "\n",
    "plot(1:n, [2^x for x in 1:n], label=\"2^n\")\n",
    "plot!(1:n, [factorial(x) for x in 1:n], label=\"n!\")"
   ]
  },
  {
   "cell_type": "markdown",
   "metadata": {},
   "source": [
    "## Crecimiento $n^n$\n",
    "Igualmente, la función $n^n$ tiene un crecimiento mayor que la función exponencial para valores pequeños de $n$. "
   ]
  },
  {
   "cell_type": "code",
   "execution_count": null,
   "metadata": {},
   "outputs": [],
   "source": [
    "n = 10\n",
    "\n",
    "plot(1:n, [factorial(x) for x in 1:n], label=\"n!\")\n",
    "plot!(1:n, [x^x for x in Int128(1):Int128(n)], label=\"n^n\")"
   ]
  },
  {
   "cell_type": "markdown",
   "metadata": {},
   "source": [
    "# Conclusiones\n",
    "\n",
    "Es importante conocer los ordenes de crecimiento más comunes de tal forma que podamos realizar comparaciones rápidas de costos, y dimensionar las diferencias de recursos entre diferentes tipos de costos. La notación asintótica hace uso extensivo de la diferencia entre diferentes ordenes de crecimiento para ignorar detalles y simplificar el análisis de algoritmos."
   ]
  }
 ],
 "metadata": {
  "kernelspec": {
   "display_name": "Julia 1.6.2",
   "language": "julia",
   "name": "julia-1.6"
  },
  "language_info": {
   "file_extension": ".jl",
   "mimetype": "application/julia",
   "name": "julia",
   "version": "1.6.2"
  }
 },
 "nbformat": 4,
 "nbformat_minor": 4
}
